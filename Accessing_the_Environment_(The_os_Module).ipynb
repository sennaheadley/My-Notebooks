{
  "nbformat": 4,
  "nbformat_minor": 0,
  "metadata": {
    "colab": {
      "name": "Accessing the Environment (The os Module)",
      "provenance": [],
      "include_colab_link": true
    },
    "kernelspec": {
      "name": "python3",
      "display_name": "Python 3"
    },
    "language_info": {
      "name": "python"
    }
  },
  "cells": [
    {
      "cell_type": "markdown",
      "metadata": {
        "id": "view-in-github",
        "colab_type": "text"
      },
      "source": [
        "<a href=\"https://colab.research.google.com/github/sennaheadley/My-Notebooks/blob/main/Accessing_the_Environment_(The_os_Module).ipynb\" target=\"_parent\"><img src=\"https://colab.research.google.com/assets/colab-badge.svg\" alt=\"Open In Colab\"/></a>"
      ]
    },
    {
      "cell_type": "markdown",
      "metadata": {
        "id": "ddNZ4-VCSUvo"
      },
      "source": [
        "# The `os` Module\n"
      ]
    },
    {
      "cell_type": "markdown",
      "metadata": {
        "id": "BGjW1GpqSX9-"
      },
      "source": [
        "References:\n",
        "\n",
        "  + https://github.com/prof-rossetti/intro-to-python/blob/main/notes/python/modules/os.md\n",
        "  + https://docs.python.org/3/library/os.html\n"
      ]
    },
    {
      "cell_type": "code",
      "metadata": {
        "id": "xlquAuOIQ8bn"
      },
      "source": [
        "import os\n",
        "from pprint import pprint\n",
        "\n",
        "#print(dir(os))\n",
        "#pprint(dir(os))\n",
        "#help(os)"
      ],
      "execution_count": null,
      "outputs": []
    },
    {
      "cell_type": "markdown",
      "metadata": {
        "id": "LtvEN1HbUIhI"
      },
      "source": [
        "## Filesystem Operations"
      ]
    },
    {
      "cell_type": "markdown",
      "metadata": {
        "id": "Asemi3gmXPv8"
      },
      "source": [
        "We have access to the local filesystem surrounding our program. \n",
        "\n",
        "In other words, the program can interact with its surrounding environment.\n",
        "\n",
        "Click the directory-like icon in the left sidebar menu to view the Colab filesystem. Then run these cells below..."
      ]
    },
    {
      "cell_type": "code",
      "metadata": {
        "colab": {
          "base_uri": "https://localhost:8080/"
        },
        "id": "dZQ-OXj6TJ66",
        "outputId": "9ee88080-f42d-4c3f-eca1-642533e75b98"
      },
      "source": [
        "print(os.getcwd())"
      ],
      "execution_count": null,
      "outputs": [
        {
          "output_type": "stream",
          "name": "stdout",
          "text": [
            "/content\n"
          ]
        }
      ]
    },
    {
      "cell_type": "code",
      "metadata": {
        "colab": {
          "base_uri": "https://localhost:8080/"
        },
        "id": "yIJejVTaTLyL",
        "outputId": "d8072231-6536-4684-d9b7-d4e25d2f34de"
      },
      "source": [
        "print(os.listdir(\"/content\"))"
      ],
      "execution_count": null,
      "outputs": [
        {
          "output_type": "stream",
          "name": "stdout",
          "text": [
            "['.config', 'sample_data']\n"
          ]
        }
      ]
    },
    {
      "cell_type": "code",
      "metadata": {
        "colab": {
          "base_uri": "https://localhost:8080/"
        },
        "id": "3xb6BLCITQ4a",
        "outputId": "c8fc3a1d-d8ef-41a8-d225-a7f21f6cf7da"
      },
      "source": [
        "print(os.listdir(\"/content/sample_data\"))"
      ],
      "execution_count": null,
      "outputs": [
        {
          "output_type": "stream",
          "name": "stdout",
          "text": [
            "['anscombe.json', 'README.md', 'mnist_train_small.csv', 'mnist_test.csv', 'california_housing_train.csv', 'california_housing_test.csv']\n"
          ]
        }
      ]
    },
    {
      "cell_type": "code",
      "metadata": {
        "colab": {
          "base_uri": "https://localhost:8080/"
        },
        "id": "TbOYS96BT1ab",
        "outputId": "5dacf972-95fb-44e2-ffda-fff6cd5ff8e5"
      },
      "source": [
        "print(os.path.isfile(\"/content/sample_data/README.md\"))"
      ],
      "execution_count": null,
      "outputs": [
        {
          "output_type": "stream",
          "name": "stdout",
          "text": [
            "True\n"
          ]
        }
      ]
    },
    {
      "cell_type": "markdown",
      "metadata": {
        "id": "hE1PoEsVbR0l"
      },
      "source": [
        "FYI - We'll later learn how to [read text files](https://github.com/prof-rossetti/intro-to-python/blob/main/notes/python/file-management.md#reading-files) and [read csv files](https://pandas.pydata.org/pandas-docs/stable/reference/api/pandas.read_csv.html) like these."
      ]
    },
    {
      "cell_type": "markdown",
      "metadata": {
        "id": "84_p-1OWUCkc"
      },
      "source": [
        "## Environment Variables\n",
        "\n",
        "Reference: https://docs.python.org/3/library/os.html#os.environ\n",
        "\n",
        "FYI - there are more variables that provide metadata about the surrounding development environment. We can access them via `os.environ`."
      ]
    },
    {
      "cell_type": "code",
      "metadata": {
        "colab": {
          "base_uri": "https://localhost:8080/"
        },
        "id": "oWyyGcvOUOLb",
        "outputId": "eb394d63-c655-4381-a87e-43d1b95b2d2b"
      },
      "source": [
        "pprint(dict(os.environ))"
      ],
      "execution_count": null,
      "outputs": [
        {
          "output_type": "stream",
          "name": "stdout",
          "text": [
            "{'CLICOLOR': '1',\n",
            " 'CLOUDSDK_CONFIG': '/content/.config',\n",
            " 'CLOUDSDK_PYTHON': 'python3',\n",
            " 'COLAB_GPU': '0',\n",
            " 'CUDA_VERSION': '11.0.3',\n",
            " 'CUDNN_VERSION': '8.0.4.30',\n",
            " 'DATALAB_SETTINGS_OVERRIDES': '{\"kernelManagerProxyPort\":6000,\"kernelManagerProxyHost\":\"172.28.0.3\",\"jupyterArgs\":[\"--ip=\\\\\"172.28.0.2\\\\\"\"],\"debugAdapterMultiplexerPath\":\"/usr/local/bin/dap_multiplexer\",\"enableLsp\":true}',\n",
            " 'DEBIAN_FRONTEND': 'noninteractive',\n",
            " 'ENV': '/root/.bashrc',\n",
            " 'GCE_METADATA_TIMEOUT': '0',\n",
            " 'GCS_READ_CACHE_BLOCK_SIZE_MB': '16',\n",
            " 'GIT_PAGER': 'cat',\n",
            " 'GLIBCPP_FORCE_NEW': '1',\n",
            " 'GLIBCXX_FORCE_NEW': '1',\n",
            " 'HOME': '/root',\n",
            " 'HOSTNAME': '62dd26a5da00',\n",
            " 'JPY_PARENT_PID': '52',\n",
            " 'LANG': 'en_US.UTF-8',\n",
            " 'LAST_FORCED_REBUILD': '20210824',\n",
            " 'LD_LIBRARY_PATH': '/usr/local/nvidia/lib:/usr/local/nvidia/lib64',\n",
            " 'LD_PRELOAD': '/usr/lib/x86_64-linux-gnu/libtcmalloc.so.4',\n",
            " 'LIBRARY_PATH': '/usr/local/cuda/lib64/stubs',\n",
            " 'MPLBACKEND': 'module://ipykernel.pylab.backend_inline',\n",
            " 'NCCL_VERSION': '2.7.8',\n",
            " 'NO_GCE_CHECK': 'True',\n",
            " 'NVIDIA_DRIVER_CAPABILITIES': 'compute,utility',\n",
            " 'NVIDIA_REQUIRE_CUDA': 'cuda>=11.0 brand=tesla,driver>=418,driver<419 '\n",
            "                        'brand=tesla,driver>=440,driver<441 '\n",
            "                        'brand=tesla,driver>=450,driver<451',\n",
            " 'NVIDIA_VISIBLE_DEVICES': 'all',\n",
            " 'OLDPWD': '/',\n",
            " 'PAGER': 'cat',\n",
            " 'PATH': '/usr/local/nvidia/bin:/usr/local/cuda/bin:/usr/local/sbin:/usr/local/bin:/usr/sbin:/usr/bin:/sbin:/bin:/tools/node/bin:/tools/google-cloud-sdk/bin:/opt/bin',\n",
            " 'PWD': '/',\n",
            " 'PYDEVD_USE_FRAME_EVAL': 'NO',\n",
            " 'PYTHONPATH': '/env/python',\n",
            " 'PYTHONWARNINGS': 'ignore:::pip._internal.cli.base_command',\n",
            " 'SHELL': '/bin/bash',\n",
            " 'SHLVL': '0',\n",
            " 'TBE_CREDS_ADDR': '172.28.0.1:8008',\n",
            " 'TERM': 'xterm-color',\n",
            " 'TF_FORCE_GPU_ALLOW_GROWTH': 'true'}\n"
          ]
        }
      ]
    },
    {
      "cell_type": "markdown",
      "metadata": {
        "id": "O_oEFXG8djey"
      },
      "source": [
        "FYI - we can access one of these variables at a time via the `os.getenv()` function, supplying the name of the environment variable in quotes (e.g. \"HOME\" or \"LANG\")."
      ]
    },
    {
      "cell_type": "markdown",
      "metadata": {
        "id": "WCPou7OVj1Fz"
      },
      "source": [
        "## Getting Environment Variables"
      ]
    },
    {
      "cell_type": "code",
      "metadata": {
        "colab": {
          "base_uri": "https://localhost:8080/"
        },
        "id": "jc3fx039Uerw",
        "outputId": "c3c2aa60-a0be-48c7-f682-336c2b3a5625"
      },
      "source": [
        "print(os.getenv(\"HOME\"))\n",
        "\n",
        "print(os.getenv(\"LANG\"))"
      ],
      "execution_count": null,
      "outputs": [
        {
          "output_type": "stream",
          "name": "stdout",
          "text": [
            "/root\n",
            "en_US.UTF-8\n"
          ]
        }
      ]
    },
    {
      "cell_type": "markdown",
      "metadata": {
        "id": "wClWJkSFj40l"
      },
      "source": [
        "## Setting Environment Variables"
      ]
    },
    {
      "cell_type": "markdown",
      "metadata": {
        "id": "zM7bh6_iei6R"
      },
      "source": [
        "In the future, we may set our own environment variables (for example, to store secret passwords and credentials we don't want to hard-code into our Python code).\n",
        "\n",
        "\n",
        "See also: [Environment Variables](https://github.com/prof-rossetti/intro-to-python/blob/main/notes/environment-variables.md).\n",
        "\n",
        "\n"
      ]
    },
    {
      "cell_type": "markdown",
      "metadata": {
        "id": "PdtZbTr5ilBd"
      },
      "source": [
        "# Your Turn!"
      ]
    },
    {
      "cell_type": "markdown",
      "metadata": {
        "id": "jZ63oAmJfHSN"
      },
      "source": [
        "How do the Colab environment variables differ from those on your local machine?\n",
        "\n",
        "  1. Open your command-line application (i.e. Terminal or Git Bash)\n",
        "  2. Enter into an interactive Python shell / interpreter via `python -i`\n",
        "  3. In the python interpreter, input the following code, one line at a time (pressing Enter after each line):\n",
        "\n",
        "```py\n",
        "import os\n",
        "\n",
        "from pprint import pprint\n",
        "\n",
        "pprint(dict(os.environ))\n",
        "```\n",
        "\n",
        "What do you notice about the results? \n",
        "\n",
        "Compare with a friend - how do yours differ?"
      ]
    }
  ]
}